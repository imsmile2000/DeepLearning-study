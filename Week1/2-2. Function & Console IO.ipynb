{
 "cells": [
  {
   "cell_type": "markdown",
   "metadata": {},
   "source": [
    "### 캡슐화: 인터페이스만 알면 타인의 코드 사용"
   ]
  },
  {
   "cell_type": "code",
   "execution_count": 6,
   "metadata": {},
   "outputs": [
    {
     "name": "stdout",
     "output_type": "stream",
     "text": [
      "200\n"
     ]
    }
   ],
   "source": [
    "def calculate_rectangle_area(x,y):\n",
    "    return x*y\n",
    "\n",
    "rectangle_x=10\n",
    "rectangle_y=20\n",
    "print(calculate_rectangle_area(rectangle_x,rectangle_y))"
   ]
  },
  {
   "cell_type": "code",
   "execution_count": 4,
   "metadata": {},
   "outputs": [
    {
     "name": "stdout",
     "output_type": "stream",
     "text": [
      "151\n"
     ]
    }
   ],
   "source": [
    "def f(x):\n",
    "    return 2*x+7\n",
    "def g(x):\n",
    "    return x**2\n",
    "x=2\n",
    "print(f(x)+g(x)+f(g(x))+g(f(x)))"
   ]
  },
  {
   "cell_type": "markdown",
   "metadata": {},
   "source": [
    "parameter: 함수의 입력 값 인터페이스"
   ]
  },
  {
   "cell_type": "markdown",
   "metadata": {},
   "source": [
    "argument: 실제 parameter에 대입된 값"
   ]
  },
  {
   "cell_type": "markdown",
   "metadata": {},
   "source": [
    "parameter 유무, return 값 유무에 따라 함수 형태가 다름"
   ]
  },
  {
   "cell_type": "markdown",
   "metadata": {},
   "source": [
    "## 콘솔 입출력 "
   ]
  },
  {
   "cell_type": "code",
   "execution_count": 7,
   "metadata": {},
   "outputs": [
    {
     "name": "stdout",
     "output_type": "stream",
     "text": [
      "온도를 입력하세요: 30\n",
      "온도는 30.0 입니다\n",
      "<class 'float'>\n"
     ]
    }
   ],
   "source": [
    "#type이 다른 값을 연결해서 출력할 때 ',' 사용\n",
    "temp=float(input(\"온도를 입력하세요: \"))\n",
    "print(\"온도는\",temp,\"입니다\")\n",
    "print(type(temp))"
   ]
  },
  {
   "cell_type": "code",
   "execution_count": 30,
   "metadata": {},
   "outputs": [
    {
     "name": "stdout",
     "output_type": "stream",
     "text": [
      "one two\n",
      "1 2\n",
      "I'm 24 years old and my name is Yoonpyo\n",
      "Art:   453, price per unit:    59.06.\n",
      "Art:   453, price per unit:    59.06.\n",
      "Product:      Apple, price per unit:   5.24300.\n",
      "Product:      Apple, price per unit:   5.24300.\n",
      "Hello, Yoonpyo. You are 24\n",
      "******Yoonpyo*******\n"
     ]
    }
   ],
   "source": [
    "# 1.%string \n",
    "print('%s %s' %('one','two'))\n",
    "\n",
    "# 2.format 함수 \n",
    "print('{} {}'.format(1,2))\n",
    "##str.format 함수\n",
    "age=24\n",
    "name='Yoonpyo'\n",
    "print(\"I'm {0} years old and my name is {1}\".format(age,name))\n",
    "##padding\n",
    "print(\"Art: %5d, price per unit: %8.2f.\" %(453,59.058))\n",
    "print(\"Art: {0:>5d}, price per unit:{1:>9.2f}.\".format(453,59.058))\n",
    "##naming\n",
    "print(\"Product: %(name)10s, price per unit:%(price)10.5f.\" %{\"name\":\"Apple\",\"price\":5.243})\n",
    "print(\"Product: {name:>10s}, price per unit:{price:10.5f}.\".format(name=\"Apple\",price=5.243))\n",
    "\n",
    "# 3. f-string\n",
    "name=\"Yoonpyo\"\n",
    "age=24\n",
    "print(f\"Hello, {name}. You are {age}\")\n",
    "print(f'{name:*^20}')"
   ]
  },
  {
   "cell_type": "markdown",
   "metadata": {},
   "source": [
    "## Lab: 화씨 변환기"
   ]
  },
  {
   "cell_type": "code",
   "execution_count": 43,
   "metadata": {},
   "outputs": [
    {
     "name": "stdout",
     "output_type": "stream",
     "text": [
      "본 프로그램은 섭씨를 화씨로 변환해주는 프로그램입니다.\n",
      "변환하고 싶은 섭씨 온도를 입력해주세요: 32.2\n",
      "섭씨 온도:  32.2\n",
      "화씨 온도: 89.96\n"
     ]
    }
   ],
   "source": [
    "def fahrenheit(x):\n",
    "    return (((9/5)*x))+32\n",
    "print(\"본 프로그램은 섭씨를 화씨로 변환해주는 프로그램입니다.\")\n",
    "i=float(input(\"변환하고 싶은 섭씨 온도를 입력해주세요: \"))\n",
    "print(\"섭씨 온도: \",i)\n",
    "print(f\"화씨 온도: {fahrenheit(i):.2f}\")"
   ]
  },
  {
   "cell_type": "code",
   "execution_count": null,
   "metadata": {},
   "outputs": [],
   "source": []
  }
 ],
 "metadata": {
  "kernelspec": {
   "display_name": "Python 3",
   "language": "python",
   "name": "python3"
  },
  "language_info": {
   "codemirror_mode": {
    "name": "ipython",
    "version": 3
   },
   "file_extension": ".py",
   "mimetype": "text/x-python",
   "name": "python",
   "nbconvert_exporter": "python",
   "pygments_lexer": "ipython3",
   "version": "3.7.6"
  }
 },
 "nbformat": 4,
 "nbformat_minor": 4
}
