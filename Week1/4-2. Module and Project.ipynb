{
 "cells": [
  {
   "cell_type": "markdown",
   "metadata": {},
   "source": [
    "파이썬은 대부분의 라이브러리가 이미 구현되어 있음 (모듈)"
   ]
  },
  {
   "cell_type": "markdown",
   "metadata": {},
   "source": [
    "## 모듈"
   ]
  },
  {
   "cell_type": "markdown",
   "metadata": {},
   "source": [
    "built-in 모듈인 random을 사용, 난수를 쉽게 생성"
   ]
  },
  {
   "cell_type": "code",
   "execution_count": null,
   "metadata": {},
   "outputs": [],
   "source": [
    "#alias 설정하기\n",
    "import fah_converter as fah\n",
    "print(fah.convert_c_to_f(41.6))\n",
    "\n",
    "#모듈에서 특정함수 또는 클래스만 호출\n",
    "from fah_converter import convert_c_to_f\n",
    "print(convert_c_to_f(41.6))\n",
    "\n",
    "#모듈에서 모든 함수또는 클래스 호출\n",
    "from fah_converter import *\n",
    "print(convert_c_to_f(41.6))"
   ]
  },
  {
   "cell_type": "code",
   "execution_count": 1,
   "metadata": {},
   "outputs": [
    {
     "name": "stdout",
     "output_type": "stream",
     "text": [
      "1\n",
      "time.struct_time(tm_year=2023, tm_mon=3, tm_mday=6, tm_hour=20, tm_min=7, tm_sec=13, tm_wday=0, tm_yday=65, tm_isdst=0)\n"
     ]
    }
   ],
   "source": [
    "#built-in 모듈\n",
    "import random\n",
    "print(random.randint(0,100))\n",
    "\n",
    "import time\n",
    "print(time.localtime())"
   ]
  },
  {
   "cell_type": "markdown",
   "metadata": {},
   "source": [
    "matplotlib\n",
    "- 파이썬 그래프 관리 패키지\n",
    "- 그래프들을 화면에 표시\n",
    "- 다양한 데이터 분석 도구들과 함께 사용됨"
   ]
  },
  {
   "cell_type": "markdown",
   "metadata": {},
   "source": [
    "tqdm\n",
    "- for loop의 loop이 얼마나 남았는지 확인"
   ]
  },
  {
   "cell_type": "code",
   "execution_count": 6,
   "metadata": {},
   "outputs": [
    {
     "data": {
      "image/png": "[encoded data removed]",
      "text/plain": [
       "<Figure size 432x288 with 1 Axes>"
      ]
     },
     "metadata": {
      "needs_background": "light"
     },
     "output_type": "display_data"
    }
   ],
   "source": [
    "import matplotlib.pyplot as plt\n",
    "plt.plot([1,2,3,4])\n",
    "plt.ylabel('some numbers')\n",
    "plt.show()\n"
   ]
  },
  {
   "cell_type": "code",
   "execution_count": 4,
   "metadata": {},
   "outputs": [
    {
     "name": "stderr",
     "output_type": "stream",
     "text": [
      "\n",
      "  0%|                                                                                        | 0/10000 [00:00<?, ?it/s]\u001b[A\n",
      "  0%|                                                                              | 1/10000 [00:01<2:47:25,  1.00s/it]\u001b[A\n",
      " 10%|███████▌                                                                   | 1001/10000 [00:02<1:45:31,  1.42it/s]\u001b[A\n",
      " 20%|███████████████                                                            | 2001/10000 [00:03<1:05:41,  2.03it/s]\u001b[A\n",
      " 30%|███████████████████████                                                      | 3001/10000 [00:04<40:16,  2.90it/s]\u001b[A\n",
      " 40%|██████████████████████████████▊                                              | 4001/10000 [00:05<24:11,  4.13it/s]\u001b[A\n",
      " 50%|██████████████████████████████████████▌                                      | 5001/10000 [00:06<14:08,  5.89it/s]\u001b[A\n",
      " 60%|██████████████████████████████████████████████▏                              | 6001/10000 [00:07<07:56,  8.40it/s]\u001b[A\n",
      " 70%|█████████████████████████████████████████████████████▉                       | 7001/10000 [00:08<04:10, 11.95it/s]\u001b[A\n",
      " 80%|█████████████████████████████████████████████████████████████▌               | 8001/10000 [00:09<01:57, 16.99it/s]\u001b[A\n",
      "100%|███████████████████████████████████████████████████████████████████████████| 10000/10000 [00:10<00:00, 988.42it/s]\u001b[A\n"
     ]
    }
   ],
   "source": [
    "from tqdm import tqdm\n",
    "import time\n",
    "\n",
    "for i in tqdm(range(10000)):\n",
    "    if i%1000==0:\n",
    "        time.sleep(1)"
   ]
  },
  {
   "cell_type": "code",
   "execution_count": null,
   "metadata": {},
   "outputs": [],
   "source": []
  }
 ],
 "metadata": {
  "kernelspec": {
   "display_name": "Python 3",
   "language": "python",
   "name": "python3"
  },
  "language_info": {
   "codemirror_mode": {
    "name": "ipython",
    "version": 3
   },
   "file_extension": ".py",
   "mimetype": "text/x-python",
   "name": "python",
   "nbconvert_exporter": "python",
   "pygments_lexer": "ipython3",
   "version": "3.7.6"
  }
 },
 "nbformat": 4,
 "nbformat_minor": 4
}
