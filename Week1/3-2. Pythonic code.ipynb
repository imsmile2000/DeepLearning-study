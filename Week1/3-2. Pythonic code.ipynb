{
 "cells": [
  {
   "cell_type": "markdown",
   "metadata": {},
   "source": [
    "## pprint"
   ]
  },
  {
   "cell_type": "code",
   "execution_count": 2,
   "metadata": {},
   "outputs": [
    {
     "name": "stdout",
     "output_type": "stream",
     "text": [
      "['hw',\n",
      " 'ho',\n",
      " 'hr',\n",
      " 'hd',\n",
      " 'ew',\n",
      " 'eo',\n",
      " 'er',\n",
      " 'ed',\n",
      " 'lw',\n",
      " 'lo',\n",
      " 'lr',\n",
      " 'ld',\n",
      " 'lw',\n",
      " 'lo',\n",
      " 'lr',\n",
      " 'ld',\n",
      " 'ow',\n",
      " 'oo',\n",
      " 'or',\n",
      " 'od']\n"
     ]
    }
   ],
   "source": [
    "import pprint\n",
    "word1=\"hello\"\n",
    "word2=\"word\"\n",
    "pprint.pprint([i+j for i in word1 for j in word2])"
   ]
  },
  {
   "cell_type": "code",
   "execution_count": 3,
   "metadata": {},
   "outputs": [
    {
     "name": "stdout",
     "output_type": "stream",
     "text": [
      "[['hw', 'ew', 'lw', 'lw', 'ow'],\n",
      " ['ho', 'eo', 'lo', 'lo', 'oo'],\n",
      " ['hr', 'er', 'lr', 'lr', 'or'],\n",
      " ['hd', 'ed', 'ld', 'ld', 'od']]\n"
     ]
    }
   ],
   "source": [
    "pprint.pprint([[i+j for i in word1] for j in word2])"
   ]
  },
  {
   "cell_type": "markdown",
   "metadata": {},
   "source": [
    "## enumerate"
   ]
  },
  {
   "cell_type": "code",
   "execution_count": 4,
   "metadata": {},
   "outputs": [
    {
     "name": "stdout",
     "output_type": "stream",
     "text": [
      "0\tA\n",
      "1\tB\n",
      "2\tC\n"
     ]
    }
   ],
   "source": [
    "for i,v in enumerate(\"ABC\"):\n",
    "    print(\"{0}\\t{1}\".format(i,v))"
   ]
  },
  {
   "cell_type": "code",
   "execution_count": 5,
   "metadata": {},
   "outputs": [
    {
     "data": {
      "text/plain": [
       "{0: 'A', 1: 'B', 2: 'C', 3: 'D'}"
      ]
     },
     "execution_count": 5,
     "metadata": {},
     "output_type": "execute_result"
    }
   ],
   "source": [
    "mystr='ABCD'\n",
    "{i:v for i,v in enumerate(mystr)}"
   ]
  },
  {
   "cell_type": "markdown",
   "metadata": {},
   "source": [
    "## lambda problems\n",
    "\n",
    "1. 어려운 문법\n",
    "2. 테스트의 어려움\n",
    "3. 코드 해석의 어려움\n",
    "4. 이름이 존재하지 않는 함수의 출현\n",
    "5. 그래도 많이 씀"
   ]
  },
  {
   "cell_type": "markdown",
   "metadata": {},
   "source": [
    "## reduce\n",
    "\n",
    "직관성이 떨어져서 python3에서 권장하지 않음"
   ]
  },
  {
   "cell_type": "code",
   "execution_count": 6,
   "metadata": {},
   "outputs": [
    {
     "data": {
      "text/plain": [
       "15"
      ]
     },
     "execution_count": 6,
     "metadata": {},
     "output_type": "execute_result"
    }
   ],
   "source": [
    "from functools import reduce\n",
    "reduce(lambda x,y:x+y,[1,2,3,4,5])"
   ]
  },
  {
   "cell_type": "markdown",
   "metadata": {},
   "source": [
    "## iterable object"
   ]
  },
  {
   "cell_type": "code",
   "execution_count": 13,
   "metadata": {},
   "outputs": [],
   "source": [
    "cities=['서울','부산','제주']\n",
    "memory_address_cities=iter(cities)"
   ]
  },
  {
   "cell_type": "code",
   "execution_count": 14,
   "metadata": {},
   "outputs": [
    {
     "data": {
      "text/plain": [
       "'서울'"
      ]
     },
     "execution_count": 14,
     "metadata": {},
     "output_type": "execute_result"
    }
   ],
   "source": [
    "next(memory_address_cities)"
   ]
  },
  {
   "cell_type": "code",
   "execution_count": 15,
   "metadata": {},
   "outputs": [
    {
     "data": {
      "text/plain": [
       "'부산'"
      ]
     },
     "execution_count": 15,
     "metadata": {},
     "output_type": "execute_result"
    }
   ],
   "source": [
    "next(memory_address_cities)"
   ]
  },
  {
   "cell_type": "markdown",
   "metadata": {},
   "source": [
    "## generator"
   ]
  },
  {
   "cell_type": "code",
   "execution_count": 19,
   "metadata": {},
   "outputs": [],
   "source": [
    "def general_list(value):\n",
    "    result=[]\n",
    "    for i in range(value):\n",
    "        result.append(i)\n",
    "    return result"
   ]
  },
  {
   "cell_type": "code",
   "execution_count": 23,
   "metadata": {},
   "outputs": [
    {
     "data": {
      "text/plain": [
       "528"
      ]
     },
     "execution_count": 23,
     "metadata": {},
     "output_type": "execute_result"
    }
   ],
   "source": [
    "import sys\n",
    "result=general_list(50)\n",
    "sys.getsizeof(result)"
   ]
  },
  {
   "cell_type": "code",
   "execution_count": 20,
   "metadata": {},
   "outputs": [],
   "source": [
    "def generator_list(value):\n",
    "    result=[]\n",
    "    for i in range(value):\n",
    "        yield i #하나씩 던져줌 (메모리 크기 절약)"
   ]
  },
  {
   "cell_type": "code",
   "execution_count": 22,
   "metadata": {},
   "outputs": [
    {
     "data": {
      "text/plain": [
       "120"
      ]
     },
     "execution_count": 22,
     "metadata": {},
     "output_type": "execute_result"
    }
   ],
   "source": [
    "import sys\n",
    "result=generator_list(50)\n",
    "sys.getsizeof(result)"
   ]
  },
  {
   "cell_type": "markdown",
   "metadata": {},
   "source": [
    "## 가변인자 using asterisk"
   ]
  },
  {
   "cell_type": "markdown",
   "metadata": {},
   "source": [
    "asterisk(*) 기호를 사용하여 함수의 parameter 표시\n",
    "\n",
    "가변인자는 일반적으로 *args를 변수명으로 사용"
   ]
  },
  {
   "cell_type": "code",
   "execution_count": 26,
   "metadata": {},
   "outputs": [
    {
     "name": "stdout",
     "output_type": "stream",
     "text": [
      "1 2 3 4 5\n",
      "1 2 (3, 4, 5)\n"
     ]
    }
   ],
   "source": [
    "def asterisk(a,b,*args):\n",
    "    print(a,b,*args)\n",
    "    print(a,b,args)\n",
    "    \n",
    "asterisk(1,2,3,4,5)"
   ]
  },
  {
   "cell_type": "code",
   "execution_count": 29,
   "metadata": {},
   "outputs": [
    {
     "name": "stdout",
     "output_type": "stream",
     "text": [
      "1 2 2 3 4 5 6\n",
      "1 2 (2, 3, 4, 5, 6)\n"
     ]
    }
   ],
   "source": [
    "asterisk(1,2,*(2,3,4,5,6))"
   ]
  },
  {
   "cell_type": "code",
   "execution_count": 31,
   "metadata": {},
   "outputs": [
    {
     "name": "stdout",
     "output_type": "stream",
     "text": [
      "[1, 2] [3, 4] [5, 6]\n"
     ]
    }
   ],
   "source": [
    "data=([1,2],[3,4],[5,6])\n",
    "print(*data)"
   ]
  },
  {
   "cell_type": "code",
   "execution_count": 33,
   "metadata": {},
   "outputs": [
    {
     "name": "stdout",
     "output_type": "stream",
     "text": [
      "(1, 3, 5)\n",
      "9\n",
      "(2, 4, 6)\n",
      "12\n"
     ]
    }
   ],
   "source": [
    "a,b,c=data\n",
    "for value in zip(a,b,c):\n",
    "    print(value)\n",
    "    print(sum(value))"
   ]
  }
 ],
 "metadata": {
  "kernelspec": {
   "display_name": "Python 3",
   "language": "python",
   "name": "python3"
  },
  "language_info": {
   "codemirror_mode": {
    "name": "ipython",
    "version": 3
   },
   "file_extension": ".py",
   "mimetype": "text/x-python",
   "name": "python",
   "nbconvert_exporter": "python",
   "pygments_lexer": "ipython3",
   "version": "3.7.6"
  }
 },
 "nbformat": 4,
 "nbformat_minor": 4
}
