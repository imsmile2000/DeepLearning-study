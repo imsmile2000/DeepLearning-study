{
 "cells": [
  {
   "cell_type": "markdown",
   "metadata": {},
   "source": [
    "예상가능한 예외\n",
    "1. 발생 여부를 사전에 인지할 수 있는 예외\n",
    "2. 사용자의 잘못된 입력, 파일 호출 시 파일 없음\n",
    "3. 개발자가 반드시 명시적으로 정의해야함"
   ]
  },
  {
   "cell_type": "markdown",
   "metadata": {},
   "source": [
    "예상 불가능한 예외\n",
    "1. 인터프리터 과정에서 발생하는 예외, 개발자 실스\n",
    "2. 리스트의 범위를 넘어가는 값 호출, 0으로 나눔\n",
    "3. 수행 불가능 시"
   ]
  },
  {
   "cell_type": "markdown",
   "metadata": {},
   "source": [
    "## Exception handling"
   ]
  },
  {
   "cell_type": "code",
   "execution_count": 6,
   "metadata": {},
   "outputs": [
    {
     "name": "stdout",
     "output_type": "stream",
     "text": [
      "Not divided by 0\n",
      "1 10\n",
      "2\n",
      "2 5\n",
      "3\n",
      "3 3\n",
      "4\n",
      "4 2\n",
      "5\n",
      "5 2\n",
      "list index out of range\n",
      "6 1\n",
      "list index out of range\n",
      "7 1\n",
      "list index out of range\n",
      "8 1\n",
      "list index out of range\n",
      "9 1\n",
      "list index out of range\n"
     ]
    }
   ],
   "source": [
    "#try~except\n",
    "a=[1,2,3,4,5]\n",
    "for i in range(10):\n",
    "    try:\n",
    "        print(i,10//i)\n",
    "        print(a[i])\n",
    "    except ZeroDivisionError: #built-in 에러\n",
    "        print(\"Not divided by 0\")\n",
    "    except IndexError as e:\n",
    "        print(e)"
   ]
  },
  {
   "cell_type": "markdown",
   "metadata": {},
   "source": [
    "## raise 구문\n",
    "필요에 따라 강제로 exception 발생"
   ]
  },
  {
   "cell_type": "code",
   "execution_count": 8,
   "metadata": {},
   "outputs": [
    {
     "name": "stdout",
     "output_type": "stream",
     "text": [
      "변환할 정수 값을 입력: 521\n",
      "정수값으로 변환된 숫자 - 521\n",
      "변환할 정수 값을 입력: 1\n",
      "정수값으로 변환된 숫자 - 1\n",
      "변환할 정수 값을 입력: 5\n",
      "정수값으로 변환된 숫자 - 5\n",
      "변환할 정수 값을 입력: a\n"
     ]
    },
    {
     "ename": "ValueError",
     "evalue": "숫자가 아닙니다",
     "output_type": "error",
     "traceback": [
      "\u001b[1;31m---------------------------------------------------------------------------\u001b[0m",
      "\u001b[1;31mValueError\u001b[0m                                Traceback (most recent call last)",
      "\u001b[1;32m<ipython-input-8-6a82325d779e>\u001b[0m in \u001b[0;36m<module>\u001b[1;34m\u001b[0m\n\u001b[0;32m      3\u001b[0m     \u001b[1;32mfor\u001b[0m \u001b[0mdigit\u001b[0m \u001b[1;32min\u001b[0m \u001b[0mvalue\u001b[0m\u001b[1;33m:\u001b[0m\u001b[1;33m\u001b[0m\u001b[1;33m\u001b[0m\u001b[0m\n\u001b[0;32m      4\u001b[0m         \u001b[1;32mif\u001b[0m \u001b[0mdigit\u001b[0m \u001b[1;32mnot\u001b[0m \u001b[1;32min\u001b[0m \u001b[1;34m\"0123456789\"\u001b[0m\u001b[1;33m:\u001b[0m\u001b[1;33m\u001b[0m\u001b[1;33m\u001b[0m\u001b[0m\n\u001b[1;32m----> 5\u001b[1;33m             \u001b[1;32mraise\u001b[0m \u001b[0mValueError\u001b[0m\u001b[1;33m(\u001b[0m\u001b[1;34m\"숫자가 아닙니다\"\u001b[0m\u001b[1;33m)\u001b[0m\u001b[1;33m\u001b[0m\u001b[1;33m\u001b[0m\u001b[0m\n\u001b[0m\u001b[0;32m      6\u001b[0m     \u001b[0mprint\u001b[0m\u001b[1;33m(\u001b[0m\u001b[1;34m\"정수값으로 변환된 숫자 -\"\u001b[0m\u001b[1;33m,\u001b[0m\u001b[0mint\u001b[0m\u001b[1;33m(\u001b[0m\u001b[0mvalue\u001b[0m\u001b[1;33m)\u001b[0m\u001b[1;33m)\u001b[0m\u001b[1;33m\u001b[0m\u001b[1;33m\u001b[0m\u001b[0m\n",
      "\u001b[1;31mValueError\u001b[0m: 숫자가 아닙니다"
     ]
    }
   ],
   "source": [
    "while True:\n",
    "    value=input(\"변환할 정수 값을 입력: \")\n",
    "    for digit in value:\n",
    "        if digit not in \"0123456789\":\n",
    "            raise ValueError(\"숫자가 아닙니다\")\n",
    "    print(\"정수값으로 변환된 숫자:\",int(value))"
   ]
  },
  {
   "cell_type": "markdown",
   "metadata": {},
   "source": [
    "## assert 구문\n",
    "특정 조건에 만족하지 않을 경우 에러 발생"
   ]
  },
  {
   "cell_type": "code",
   "execution_count": 9,
   "metadata": {},
   "outputs": [
    {
     "ename": "AssertionError",
     "evalue": "",
     "output_type": "error",
     "traceback": [
      "\u001b[1;31m---------------------------------------------------------------------------\u001b[0m",
      "\u001b[1;31mAssertionError\u001b[0m                            Traceback (most recent call last)",
      "\u001b[1;32m<ipython-input-9-bffcec1da52f>\u001b[0m in \u001b[0;36m<module>\u001b[1;34m\u001b[0m\n\u001b[0;32m      3\u001b[0m     \u001b[1;32mreturn\u001b[0m \u001b[0mbin\u001b[0m\u001b[1;33m(\u001b[0m\u001b[0mnum\u001b[0m\u001b[1;33m)\u001b[0m\u001b[1;33m\u001b[0m\u001b[1;33m\u001b[0m\u001b[0m\n\u001b[0;32m      4\u001b[0m \u001b[1;33m\u001b[0m\u001b[0m\n\u001b[1;32m----> 5\u001b[1;33m \u001b[0mprint\u001b[0m\u001b[1;33m(\u001b[0m\u001b[0mget_binary_num\u001b[0m\u001b[1;33m(\u001b[0m\u001b[1;36m10.0\u001b[0m\u001b[1;33m)\u001b[0m\u001b[1;33m)\u001b[0m\u001b[1;33m\u001b[0m\u001b[1;33m\u001b[0m\u001b[0m\n\u001b[0m",
      "\u001b[1;32m<ipython-input-9-bffcec1da52f>\u001b[0m in \u001b[0;36mget_binary_num\u001b[1;34m(num)\u001b[0m\n\u001b[0;32m      1\u001b[0m \u001b[1;32mdef\u001b[0m \u001b[0mget_binary_num\u001b[0m\u001b[1;33m(\u001b[0m\u001b[0mnum\u001b[0m\u001b[1;33m:\u001b[0m\u001b[0mint\u001b[0m\u001b[1;33m)\u001b[0m\u001b[1;33m:\u001b[0m\u001b[1;33m\u001b[0m\u001b[1;33m\u001b[0m\u001b[0m\n\u001b[1;32m----> 2\u001b[1;33m     \u001b[1;32massert\u001b[0m \u001b[0misinstance\u001b[0m\u001b[1;33m(\u001b[0m\u001b[0mnum\u001b[0m\u001b[1;33m,\u001b[0m\u001b[0mint\u001b[0m\u001b[1;33m)\u001b[0m\u001b[1;33m\u001b[0m\u001b[1;33m\u001b[0m\u001b[0m\n\u001b[0m\u001b[0;32m      3\u001b[0m     \u001b[1;32mreturn\u001b[0m \u001b[0mbin\u001b[0m\u001b[1;33m(\u001b[0m\u001b[0mnum\u001b[0m\u001b[1;33m)\u001b[0m\u001b[1;33m\u001b[0m\u001b[1;33m\u001b[0m\u001b[0m\n\u001b[0;32m      4\u001b[0m \u001b[1;33m\u001b[0m\u001b[0m\n\u001b[0;32m      5\u001b[0m \u001b[0mprint\u001b[0m\u001b[1;33m(\u001b[0m\u001b[0mget_binary_num\u001b[0m\u001b[1;33m(\u001b[0m\u001b[1;36m10.0\u001b[0m\u001b[1;33m)\u001b[0m\u001b[1;33m)\u001b[0m\u001b[1;33m\u001b[0m\u001b[1;33m\u001b[0m\u001b[0m\n",
      "\u001b[1;31mAssertionError\u001b[0m: "
     ]
    }
   ],
   "source": [
    "def get_binary_num(num:int):\n",
    "    assert isinstance(num,int)\n",
    "    return bin(num)\n",
    "\n",
    "print(get_binary_num(10.0))"
   ]
  },
  {
   "cell_type": "markdown",
   "metadata": {},
   "source": [
    "## 파이썬의 file read"
   ]
  },
  {
   "cell_type": "code",
   "execution_count": 15,
   "metadata": {},
   "outputs": [
    {
     "name": "stdout",
     "output_type": "stream",
     "text": [
      "character 개수:  637\n",
      "word 개수:  107\n",
      "line 개수:  25\n"
     ]
    }
   ],
   "source": [
    "f=open(\"yesterday.txt\",\"r\")\n",
    "contents=f.read() #전체 읽어오기\n",
    "word_list=contents.split(\" \")\n",
    "line_list=contents.split(\"\\n\")\n",
    "\n",
    "print(\"character 개수: \",len(contents))\n",
    "print(\"word 개수: \",len(word_list))\n",
    "print(\"line 개수: \",len(line_list))"
   ]
  },
  {
   "cell_type": "markdown",
   "metadata": {},
   "source": [
    "## OS module"
   ]
  },
  {
   "cell_type": "code",
   "execution_count": 17,
   "metadata": {},
   "outputs": [],
   "source": [
    "import os\n",
    "os.mkdir(\"log\") #디렉토리 만들기"
   ]
  },
  {
   "cell_type": "code",
   "execution_count": 19,
   "metadata": {},
   "outputs": [
    {
     "data": {
      "text/plain": [
       "True"
      ]
     },
     "execution_count": 19,
     "metadata": {},
     "output_type": "execute_result"
    }
   ],
   "source": [
    "os.path.isfile(\"File & Exception & Log handling.ipynb\")"
   ]
  },
  {
   "cell_type": "code",
   "execution_count": 20,
   "metadata": {},
   "outputs": [],
   "source": [
    "#shutill.copy -> 파일 복사 함수"
   ]
  },
  {
   "cell_type": "code",
   "execution_count": 25,
   "metadata": {},
   "outputs": [
    {
     "name": "stdout",
     "output_type": "stream",
     "text": [
      "C:\\Users\\yoonpyo\\ai_tech\\Week1\n",
      "C:\\Users\\yoonpyo\\ai_tech\n",
      "C:\\Users\\yoonpyo\n"
     ]
    }
   ],
   "source": [
    "import pathlib\n",
    "cwd=pathlib.Path.cwd()\n",
    "print(cwd)\n",
    "print(cwd.parent)\n",
    "print(cwd.parent.parent)"
   ]
  },
  {
   "cell_type": "markdown",
   "metadata": {},
   "source": [
    "## Pickle\n",
    "- 파이썬 객체를 영속화 하는 built-in 객체\n",
    "- 데이터, object 등 실행중 정보를 저장\n",
    "- 저장해야하는 정보, 계산 결과 등 활용이 많음"
   ]
  },
  {
   "cell_type": "code",
   "execution_count": 27,
   "metadata": {},
   "outputs": [],
   "source": [
    "import pickle\n",
    "f=open(\"yesterday.txt\",\"wb\")\n",
    "text=[1,2,3,4,5]\n",
    "pickle.dump(text,f)\n",
    "f.close()"
   ]
  },
  {
   "cell_type": "code",
   "execution_count": 28,
   "metadata": {},
   "outputs": [
    {
     "name": "stdout",
     "output_type": "stream",
     "text": [
      "[1, 2, 3, 4, 5]\n"
     ]
    }
   ],
   "source": [
    "f=open(\"yesterday.txt\",\"rb\")\n",
    "test_pickle=pickle.load(f)\n",
    "print(test_pickle)\n",
    "f.close()"
   ]
  },
  {
   "cell_type": "markdown",
   "metadata": {},
   "source": [
    "## Logging\n",
    "- 기록 남기기\n",
    "- console 화면에 출력\n",
    "- 유저의 접근, 프로그램의 exception\n",
    "- 의미있는 결과 도출 가능"
   ]
  },
  {
   "cell_type": "code",
   "execution_count": 32,
   "metadata": {},
   "outputs": [
    {
     "name": "stderr",
     "output_type": "stream",
     "text": [
      "WARNING:root:조심해\n",
      "ERROR:root:에러났어\n",
      "CRITICAL:root:망함\n"
     ]
    }
   ],
   "source": [
    "import logging\n",
    "logging.basicConfig(level=logging.DEBUG)\n",
    "logging.debug(\"틀렸어\")\n",
    "logging.info(\"확인해\")\n",
    "logging.warning(\"조심해\")\n",
    "logging.error(\"에러났어\")\n",
    "logging.critical(\"망함\")"
   ]
  },
  {
   "cell_type": "markdown",
   "metadata": {},
   "source": [
    "configparser\n",
    "argparser\n",
    "- console 창에서 setting 정보 저장\n",
    "- 특수 모듈도 많이 존재하지만 일반적으로 argparse 사용\n",
    "- command-line option이라고 부름"
   ]
  }
 ],
 "metadata": {
  "kernelspec": {
   "display_name": "Python 3",
   "language": "python",
   "name": "python3"
  },
  "language_info": {
   "codemirror_mode": {
    "name": "ipython",
    "version": 3
   },
   "file_extension": ".py",
   "mimetype": "text/x-python",
   "name": "python",
   "nbconvert_exporter": "python",
   "pygments_lexer": "ipython3",
   "version": "3.7.6"
  }
 },
 "nbformat": 4,
 "nbformat_minor": 4
}
