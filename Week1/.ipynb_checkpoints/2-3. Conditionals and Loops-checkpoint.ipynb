{
 "cells": [
  {
   "cell_type": "markdown",
   "metadata": {},
   "source": [
    "# 조건문"
   ]
  },
  {
   "cell_type": "code",
   "execution_count": 1,
   "metadata": {},
   "outputs": [
    {
     "name": "stdout",
     "output_type": "stream",
     "text": [
      "나이?\n",
      "32\n",
      "oh no. you are not accepted\n"
     ]
    }
   ],
   "source": [
    "#if-else 문\n",
    "print(\"나이?\")\n",
    "age=int(input())\n",
    "if age<30:\n",
    "    print(\"welcome to the club\")\n",
    "else:\n",
    "    print(\"oh no. you are not accepted\")"
   ]
  },
  {
   "cell_type": "code",
   "execution_count": 2,
   "metadata": {},
   "outputs": [
    {
     "name": "stdout",
     "output_type": "stream",
     "text": [
      "True\n"
     ]
    }
   ],
   "source": [
    "#컴퓨터는 존재하면 참 없으면 거짓이라고 판단함\n",
    "# if \"abc\"=True, if''=False\n",
    "if 1:\n",
    "    print(\"True\")\n",
    "else:\n",
    "    print(\"False\")"
   ]
  },
  {
   "cell_type": "code",
   "execution_count": null,
   "metadata": {},
   "outputs": [],
   "source": [
    "#논리 키워드 사용: and , or, not\n",
    "a=True\n",
    "b=False\n",
    "print(a and b)\n",
    "print(a or b)"
   ]
  },
  {
   "cell_type": "code",
   "execution_count": 9,
   "metadata": {},
   "outputs": [
    {
     "name": "stdout",
     "output_type": "stream",
     "text": [
      "True\n"
     ]
    }
   ],
   "source": [
    "#삼항 연산자\n",
    "value=12\n",
    "is_even=True if value%2==0 else False\n",
    "print(is_even)   "
   ]
  },
  {
   "cell_type": "markdown",
   "metadata": {},
   "source": [
    "# 반복문"
   ]
  },
  {
   "cell_type": "markdown",
   "metadata": {},
   "source": [
    "알아두면 상식\n",
    "- 임시적인 반복 변수는 i,j,k\n",
    "- 0부터 시작하는 걸 권장\n",
    "- 무한 loop (반복 명령이 끝나지 않는 프로그램 오류)"
   ]
  },
  {
   "cell_type": "code",
   "execution_count": 11,
   "metadata": {},
   "outputs": [
    {
     "name": "stdout",
     "output_type": "stream",
     "text": [
      "1 : Hello\n",
      "2 : Hello\n",
      "3 : Hello\n",
      "4 : Hello\n",
      "5 : Hello\n"
     ]
    }
   ],
   "source": [
    "for looper in [1,2,3,4,5]:\n",
    "    print(looper,\": Hello\")"
   ]
  },
  {
   "cell_type": "code",
   "execution_count": 14,
   "metadata": {},
   "outputs": [
    {
     "name": "stdout",
     "output_type": "stream",
     "text": [
      "0 : Hello\n",
      "1 : Hello\n",
      "2 : Hello\n",
      "3 : Hello\n",
      "4 : Hello\n",
      "5 : Hello\n",
      "6 : Hello\n",
      "7 : Hello\n",
      "8 : Hello\n",
      "9 : Hello\n"
     ]
    }
   ],
   "source": [
    "i=0\n",
    "while i<10:\n",
    "    print(f\"{i} : Hello\")\n",
    "    i+=1"
   ]
  },
  {
   "cell_type": "code",
   "execution_count": 15,
   "metadata": {},
   "outputs": [
    {
     "name": "stdout",
     "output_type": "stream",
     "text": [
      "0\n",
      "1\n",
      "2\n",
      "3\n",
      "4\n",
      "EOP\n"
     ]
    }
   ],
   "source": [
    "#break: 5면 for문 종료\n",
    "for i in range(10):\n",
    "    if i==5:\n",
    "        break\n",
    "    print(i)\n",
    "print(\"EOP\")"
   ]
  },
  {
   "cell_type": "code",
   "execution_count": 16,
   "metadata": {},
   "outputs": [
    {
     "name": "stdout",
     "output_type": "stream",
     "text": [
      "0\n",
      "1\n",
      "2\n",
      "3\n",
      "4\n",
      "6\n",
      "7\n",
      "8\n",
      "9\n",
      "EOP\n"
     ]
    }
   ],
   "source": [
    "#continue: 5만 pass\n",
    "for i in range(10):\n",
    "    if i==5:\n",
    "        continue\n",
    "    print(i)\n",
    "print(\"EOP\")"
   ]
  },
  {
   "cell_type": "markdown",
   "metadata": {},
   "source": [
    "## 숫자 찾기 게임"
   ]
  },
  {
   "cell_type": "code",
   "execution_count": 22,
   "metadata": {},
   "outputs": [
    {
     "name": "stdout",
     "output_type": "stream",
     "text": [
      "구구단 몇단을 계산할까요?5\n",
      "구구단 5단을 계산합니다.\n",
      "5 X 1 = 5\n",
      "5 X 2 = 10\n",
      "5 X 3 = 15\n",
      "5 X 4 = 20\n",
      "5 X 5 = 25\n",
      "5 X 6 = 30\n",
      "5 X 7 = 35\n",
      "5 X 8 = 40\n",
      "5 X 9 = 45\n"
     ]
    }
   ],
   "source": [
    "gugudan=int(input(\"구구단 몇단을 계산할까요?\"))\n",
    "print(f\"구구단 {gugudan}단을 계산합니다.\")\n",
    "for i in range(1,10):\n",
    "    print(f'{gugudan} X {i} = {gugudan*i}')"
   ]
  },
  {
   "cell_type": "markdown",
   "metadata": {},
   "source": [
    "## 구구단 계산기"
   ]
  },
  {
   "cell_type": "code",
   "execution_count": 26,
   "metadata": {
    "scrolled": true
   },
   "outputs": [
    {
     "name": "stdout",
     "output_type": "stream",
     "text": [
      "숫자를 맞춰보세요 (1~100)48\n",
      "숫자가 너무 큽니다\n",
      "숫자를 맞춰보세요 (1~100)50\n",
      "숫자가 너무 큽니다\n",
      "숫자를 맞춰보세요 (1~100)49\n",
      "숫자가 너무 큽니다\n",
      "숫자를 맞춰보세요 (1~100)30\n",
      "숫자가 너무 큽니다\n",
      "숫자를 맞춰보세요 (1~100)20\n",
      "숫자가 너무 큽니다\n",
      "숫자를 맞춰보세요 (1~100)10\n",
      "숫자가 너무 작습니다\n",
      "숫자를 맞춰보세요 (1~100)15\n",
      "숫자가 너무 작습니다\n",
      "숫자를 맞춰보세요 (1~100)16\n",
      "숫자가 너무 작습니다\n",
      "숫자를 맞춰보세요 (1~100)18\n",
      "정답입니다. 입력한 숫자는 18입니다\n"
     ]
    }
   ],
   "source": [
    "import random\n",
    "answer=random.randint(1,100)\n",
    "while True:\n",
    "    number=int(input(\"숫자를 맞춰보세요 (1~100)\"))\n",
    "    if number>answer:\n",
    "        print(\"숫자가 너무 큽니다\")\n",
    "    elif number<answer:\n",
    "        print(\"숫자가 너무 작습니다\")\n",
    "    else:\n",
    "        print(f\"정답입니다. 입력한 숫자는 {answer}입니다\")\n",
    "        break"
   ]
  },
  {
   "cell_type": "markdown",
   "metadata": {},
   "source": [
    "## 연속적인 구구단 입력"
   ]
  },
  {
   "cell_type": "code",
   "execution_count": 1,
   "metadata": {},
   "outputs": [
    {
     "name": "stdout",
     "output_type": "stream",
     "text": [
      "구구단 몇단을 계산할까요(1~9)?5\n",
      "구구단 5단을 계산합니다.\n",
      "5 X 1 = 5\n",
      "5 X 2 = 10\n",
      "5 X 3 = 15\n",
      "5 X 4 = 20\n",
      "5 X 5 = 25\n",
      "5 X 6 = 30\n",
      "5 X 7 = 35\n",
      "5 X 8 = 40\n",
      "5 X 9 = 45\n",
      "구구단 몇단을 계산할까요(1~9)?10\n",
      "구구단 몇단을 계산할까요(1~9)?0\n",
      "구구단 게임을 종료합니다\n"
     ]
    }
   ],
   "source": [
    "while True:\n",
    "    gugudan=int(input(\"구구단 몇단을 계산할까요(1~9)?\"))\n",
    "    if gugudan==0:\n",
    "        print(\"구구단 게임을 종료합니다\")\n",
    "        break\n",
    "    elif gugudan<10:\n",
    "        print(f\"구구단 {gugudan}단을 계산합니다.\")\n",
    "        for i in range(1,10):\n",
    "            print(f'{gugudan} X {i} = {gugudan*i}')"
   ]
  },
  {
   "cell_type": "markdown",
   "metadata": {},
   "source": [
    "# Debugging"
   ]
  },
  {
   "cell_type": "code",
   "execution_count": 2,
   "metadata": {},
   "outputs": [
    {
     "ename": "IndentationError",
     "evalue": "unexpected indent (<ipython-input-2-d8226f346c85>, line 2)",
     "output_type": "error",
     "traceback": [
      "\u001b[1;36m  File \u001b[1;32m\"<ipython-input-2-d8226f346c85>\"\u001b[1;36m, line \u001b[1;32m2\u001b[0m\n\u001b[1;33m    y=5\u001b[0m\n\u001b[1;37m    ^\u001b[0m\n\u001b[1;31mIndentationError\u001b[0m\u001b[1;31m:\u001b[0m unexpected indent\n"
     ]
    }
   ],
   "source": [
    "#indentationError (들여쓰기 잘못함)\n",
    "x=2\n",
    " y=5\n",
    "print(x+y)"
   ]
  },
  {
   "cell_type": "code",
   "execution_count": 3,
   "metadata": {},
   "outputs": [
    {
     "ename": "NameError",
     "evalue": "name 'pront' is not defined",
     "output_type": "error",
     "traceback": [
      "\u001b[1;31m---------------------------------------------------------------------------\u001b[0m",
      "\u001b[1;31mNameError\u001b[0m                                 Traceback (most recent call last)",
      "\u001b[1;32m<ipython-input-3-0098802f4c20>\u001b[0m in \u001b[0;36m<module>\u001b[1;34m\u001b[0m\n\u001b[0;32m      1\u001b[0m \u001b[0mx\u001b[0m\u001b[1;33m=\u001b[0m\u001b[1;36m2\u001b[0m\u001b[1;33m\u001b[0m\u001b[1;33m\u001b[0m\u001b[0m\n\u001b[0;32m      2\u001b[0m \u001b[0my\u001b[0m\u001b[1;33m=\u001b[0m\u001b[1;36m5\u001b[0m\u001b[1;33m\u001b[0m\u001b[1;33m\u001b[0m\u001b[0m\n\u001b[1;32m----> 3\u001b[1;33m \u001b[0mpront\u001b[0m\u001b[1;33m(\u001b[0m\u001b[0mx\u001b[0m\u001b[1;33m+\u001b[0m\u001b[0my\u001b[0m\u001b[1;33m)\u001b[0m\u001b[1;33m\u001b[0m\u001b[1;33m\u001b[0m\u001b[0m\n\u001b[0m",
      "\u001b[1;31mNameError\u001b[0m: name 'pront' is not defined"
     ]
    }
   ],
   "source": [
    "#name error: 오탈자, 대문자\n",
    "x=2\n",
    "y=5\n",
    "pront(x+y)"
   ]
  },
  {
   "cell_type": "code",
   "execution_count": 4,
   "metadata": {},
   "outputs": [
    {
     "data": {
      "text/plain": [
       "1000"
      ]
     },
     "execution_count": 4,
     "metadata": {},
     "output_type": "execute_result"
    }
   ],
   "source": [
    "#논리적 에러\n",
    "def addition(x,y):\n",
    "    return x+y\n",
    "def multiple(x,y):\n",
    "    return x*y\n",
    "def divided_by_2(x):\n",
    "    return x/2\n",
    "# import trapezoid as tz ->파일 불러오기\n",
    "# tz.addition(10,20) -> 파일의 함수 불러오기"
   ]
  }
 ],
 "metadata": {
  "kernelspec": {
   "display_name": "Python 3",
   "language": "python",
   "name": "python3"
  },
  "language_info": {
   "codemirror_mode": {
    "name": "ipython",
    "version": 3
   },
   "file_extension": ".py",
   "mimetype": "text/x-python",
   "name": "python",
   "nbconvert_exporter": "python",
   "pygments_lexer": "ipython3",
   "version": "3.7.6"
  }
 },
 "nbformat": 4,
 "nbformat_minor": 4
}
