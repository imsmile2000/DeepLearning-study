{
 "cells": [
  {
   "cell_type": "markdown",
   "metadata": {},
   "source": [
    "# 벡터\n",
    "- 숫자를 원소로 가지는 **리스트 또는 배열**\n",
    "- 공간에서 한 점\n",
    "- 원점으로부터 **상대적 위치**\n",
    "- 벡터에 숫자를 곱해주면 **길이만 변함**\n",
    "- 벡터끼리 같은 모양을 가지면 **덧셈, 뺄셈, 성분곱** 가능\n",
    "- 두 벡터의 덧셈은 다른 벡터로부터 **상대적 위치이동**을 표현"
   ]
  },
  {
   "cell_type": "code",
   "execution_count": 2,
   "metadata": {},
   "outputs": [
    {
     "name": "stdout",
     "output_type": "stream",
     "text": [
      "[6 9 3]\n",
      "[-4  5  1]\n",
      "[ 5 14  2]\n"
     ]
    }
   ],
   "source": [
    "import numpy as np\n",
    "x=np.array([1,7,2])\n",
    "y=np.array([5,2,1])\n",
    "print(x+y) #덧셈\n",
    "print(x-y) #뺄셈\n",
    "print(x*y) #성분곱"
   ]
  },
  {
   "cell_type": "markdown",
   "metadata": {},
   "source": [
    "## 벡터의 노름\n",
    "- 원점에서부터의 거리\n",
    "- 노름의 종류에 따라 기하학적 성질이 달라짐\n",
    "- **L1-노름**: 각 성분의 변화량의 절대값의 합\n",
    "> Robust 학습, Lasso 회귀에 사용\n",
    "- **L2-노름**: 피타고라스 정리로 계산한 거리\n",
    "> np.linalg.norm으로도 구현 가능\n",
    "> 라플라스 근사, Ridge 회귀에 사용"
   ]
  },
  {
   "cell_type": "code",
   "execution_count": 3,
   "metadata": {},
   "outputs": [],
   "source": [
    "def l1_norm(x):\n",
    "    x_norm=np.sum(abs(x))\n",
    "    return x_norm\n",
    "\n",
    "def l2_norm(x):\n",
    "    x_norm=np.sum(x*x)\n",
    "    x_norm=np.sqrt(x_norm)\n",
    "    return x_norm"
   ]
  },
  {
   "cell_type": "markdown",
   "metadata": {},
   "source": [
    "## 두 벡터 사이의 각도\n",
    "- 제2 코사인 법칙으로 계산\n",
    "- **L2-노름으로만** 가능\n",
    "- 내적: 정사영의 길이를 벡터 y의 길이만큼 조정한 것\n",
    "    - 정사영된 벡터의 길이: x의 크기*cos(θ)\n",
    "    - **두벡터의 유사도 측정**에 사용\n"
   ]
  },
  {
   "cell_type": "code",
   "execution_count": 6,
   "metadata": {},
   "outputs": [],
   "source": [
    "#x,y내적/x크기*y크기\n",
    "def angle(x,y):\n",
    "    v=np.inner(x,y)/(l2_norm(x)*l2_norm(y)) #제2코사인법칙\n",
    "    theta=np.arccos(v)\n",
    "    return theta"
   ]
  }
 ],
 "metadata": {
  "kernelspec": {
   "display_name": "Python 3",
   "language": "python",
   "name": "python3"
  },
  "language_info": {
   "codemirror_mode": {
    "name": "ipython",
    "version": 3
   },
   "file_extension": ".py",
   "mimetype": "text/x-python",
   "name": "python",
   "nbconvert_exporter": "python",
   "pygments_lexer": "ipython3",
   "version": "3.7.6"
  }
 },
 "nbformat": 4,
 "nbformat_minor": 4
}
