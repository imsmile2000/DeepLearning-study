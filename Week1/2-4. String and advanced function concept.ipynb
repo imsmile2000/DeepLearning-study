{
 "cells": [
  {
   "cell_type": "markdown",
   "metadata": {},
   "source": [
    "# 문자열 (string)"
   ]
  },
  {
   "cell_type": "markdown",
   "metadata": {},
   "source": [
    "string은 1byte 크기로 한글자씩 메모리 공간이 할당됨"
   ]
  },
  {
   "cell_type": "markdown",
   "metadata": {},
   "source": [
    "1byte=8bit=256"
   ]
  },
  {
   "cell_type": "code",
   "execution_count": 2,
   "metadata": {},
   "outputs": [],
   "source": [
    "# 정수형(int): 4byte\n",
    "# 정수형(long): 무제한\n",
    "#  실수형(float): 8byte"
   ]
  },
  {
   "cell_type": "markdown",
   "metadata": {},
   "source": [
    "### 문자열 슬라이싱 / 문자열 함수"
   ]
  },
  {
   "cell_type": "code",
   "execution_count": 12,
   "metadata": {},
   "outputs": [
    {
     "name": "stdout",
     "output_type": "stream",
     "text": [
      "ificial\n",
      "artificial\n",
      "ARTIFICIAL\n",
      "False\n",
      "Artificial\n",
      "hello\n",
      "happy new year\n"
     ]
    }
   ],
   "source": [
    "text=\"Artificial\"\n",
    "print(text[3:])\n",
    "print(text.lower()) #소문자로 \n",
    "print(text.upper()) #대문자로\n",
    "print(text.isdigit()) #숫자인지\n",
    "print(text.title())\n",
    "text=\"A-r-t-i-f-i-c-i-a-l\"\n",
    "text.split('-')\n",
    "\n",
    "#두줄이상 저장할때는 \\n 또는 ''' ''' 사용\n",
    "twoline='''hello\n",
    "happy new year'''\n",
    "print(twoline)"
   ]
  },
  {
   "cell_type": "code",
   "execution_count": 16,
   "metadata": {},
   "outputs": [
    {
     "name": "stdout",
     "output_type": "stream",
     "text": [
      "Yesterday 개수: 3\n",
      "yesterday 개수: 6\n"
     ]
    }
   ],
   "source": [
    "f=open(\"yesterday.txt\",\"r\")\n",
    "yesterday_lyric=''\n",
    "while True:\n",
    "    line=f.readline()\n",
    "    if not line:\n",
    "        break\n",
    "    yesterday_lyric+=line.strip()+\"\\n\"\n",
    "f.close()\n",
    "print(\"Yesterday 개수:\",yesterday_lyric.count(\"Yesterday\"))\n",
    "print(\"yesterday 개수:\",yesterday_lyric.count(\"yesterday\"))"
   ]
  },
  {
   "cell_type": "markdown",
   "metadata": {},
   "source": [
    "## 함수 호출 방식"
   ]
  },
  {
   "cell_type": "markdown",
   "metadata": {},
   "source": [
    "call by value: 함수에 인자를 넘길 때 값만 넘김"
   ]
  },
  {
   "cell_type": "markdown",
   "metadata": {},
   "source": [
    "call by reference: 함수에 인자를 넘길 때 메모리 주소를 넘김"
   ]
  },
  {
   "cell_type": "markdown",
   "metadata": {},
   "source": [
    "call by object reference: 파이썬은 객체의 주소가 함수로 전달되는 방식"
   ]
  },
  {
   "cell_type": "code",
   "execution_count": 20,
   "metadata": {},
   "outputs": [
    {
     "name": "stdout",
     "output_type": "stream",
     "text": [
      "[2, 3]\n",
      "[0, 1, 5]\n"
     ]
    }
   ],
   "source": [
    "def spam(eggs):\n",
    "    eggs.append(1) #기존 객체의 주소값에 [1]추가\n",
    "    eggs.append(5)\n",
    "    eggs=[2,3] # 새로운 객체 생성\n",
    "    print(eggs)\n",
    "ham=[0]\n",
    "spam(ham)\n",
    "print(ham)"
   ]
  },
  {
   "cell_type": "markdown",
   "metadata": {},
   "source": [
    "## 변수의 범위"
   ]
  },
  {
   "cell_type": "markdown",
   "metadata": {},
   "source": [
    "지역변수 : 함수 내에서만 사용\n",
    "\n",
    "전역변수: 함수 밖에서도 사용"
   ]
  },
  {
   "cell_type": "code",
   "execution_count": 21,
   "metadata": {},
   "outputs": [
    {
     "name": "stdout",
     "output_type": "stream",
     "text": [
      "before 10\n",
      "지역변수: 20\n",
      "after 10\n"
     ]
    }
   ],
   "source": [
    "def test(t):\n",
    "    t=20\n",
    "    print(\"지역변수:\",t)\n",
    "x=10\n",
    "print(\"before\",x)\n",
    "test(x)\n",
    "print(\"after\",x)"
   ]
  },
  {
   "cell_type": "markdown",
   "metadata": {},
   "source": [
    "함수 내에서 전역변수 사용 시 global 키워드 사용"
   ]
  },
  {
   "cell_type": "markdown",
   "metadata": {},
   "source": [
    "## function type hints"
   ]
  },
  {
   "cell_type": "markdown",
   "metadata": {},
   "source": [
    "파이썬의 가장 큰 특징 - dynamic typing\n",
    "\n",
    " - 처음 함수를 사용하는 사용자가 인터페이스를 알기 어려움"
   ]
  },
  {
   "cell_type": "code",
   "execution_count": 22,
   "metadata": {},
   "outputs": [],
   "source": [
    "def type_hint(name: str) -> str:\n",
    "    return f\"Hello,{name}\""
   ]
  },
  {
   "cell_type": "markdown",
   "metadata": {},
   "source": [
    "type hints의 장점\n",
    "\n",
    "1. 사용자에게 인터페이스를 명학히 알려줄 수 있다\n",
    "2. 함수의 문서화시 파라미터에 대한 정보를 명확히 알 수 있다.\n",
    "3. 시스템 안정성 확보\n",
    "4. 발생 가능한 오류를 사전에 확인"
   ]
  },
  {
   "cell_type": "markdown",
   "metadata": {},
   "source": [
    "## function docstring"
   ]
  },
  {
   "cell_type": "markdown",
   "metadata": {},
   "source": [
    "파이썬 함수에 대한 상세스펙을 사전에 작성 ➔ 함수 사용자의 이행도 UP"
   ]
  },
  {
   "cell_type": "markdown",
   "metadata": {},
   "source": [
    "세 개의 따옴표로 docstring"
   ]
  },
  {
   "cell_type": "code",
   "execution_count": 24,
   "metadata": {},
   "outputs": [
    {
     "name": "stdout",
     "output_type": "stream",
     "text": [
      "\n",
      "    Parameters:\n",
      "        a (int): A decimal integer\n",
      "        b (int): Another decimal integer\n",
      "        \n",
      "    Returns:\n",
      "        binary_sum (str): Binary string of the sum of a and b\n",
      "    \n"
     ]
    }
   ],
   "source": [
    "def add_binary(a,b):\n",
    "    '''\n",
    "    Parameters:\n",
    "        a (int): A decimal integer\n",
    "        b (int): Another decimal integer\n",
    "        \n",
    "    Returns:\n",
    "        binary_sum (str): Binary string of the sum of a and b\n",
    "    '''\n",
    "    binary_sum=bin(a+b)[2:]\n",
    "    return binary_sum\n",
    "\n",
    "print(add_binary.__doc__)"
   ]
  }
 ],
 "metadata": {
  "kernelspec": {
   "display_name": "Python 3",
   "language": "python",
   "name": "python3"
  },
  "language_info": {
   "codemirror_mode": {
    "name": "ipython",
    "version": 3
   },
   "file_extension": ".py",
   "mimetype": "text/x-python",
   "name": "python",
   "nbconvert_exporter": "python",
   "pygments_lexer": "ipython3",
   "version": "3.7.6"
  }
 },
 "nbformat": 4,
 "nbformat_minor": 4
}
